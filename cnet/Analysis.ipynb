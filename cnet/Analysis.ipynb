{
 "cells": [
  {
   "cell_type": "code",
   "execution_count": 1,
   "source": [
    "%load_ext autoreload\n",
    "%autoreload 2"
   ],
   "outputs": [],
   "metadata": {}
  },
  {
   "cell_type": "code",
   "execution_count": 2,
   "source": [
    "\"\"\"Main training script for Cascaded Nets.\"\"\"\n",
    "import argparse\n",
    "import glob\n",
    "import matplotlib.pyplot as plt\n",
    "import numpy as np\n",
    "import os\n",
    "import pandas as pd\n",
    "import seaborn as sns\n",
    "import sys\n",
    "import torch\n",
    "from collections import defaultdict\n",
    "from datasets.dataset_handler import DataHandler\n",
    "from matplotlib.lines import Line2D\n",
    "from modules import utils\n",
    "from scipy import interpolate"
   ],
   "outputs": [],
   "metadata": {}
  },
  {
   "cell_type": "markdown",
   "source": [
    "## Setup Args"
   ],
   "metadata": {}
  },
  {
   "cell_type": "code",
   "execution_count": 3,
   "source": [
    "def setup_args():\n",
    "  parser = argparse.ArgumentParser()\n",
    "  parser.add_argument(\"--random_seed\", type=int, default=42,\n",
    "                      help=\"random seed\")\n",
    "  \n",
    "  # Paths\n",
    "  parser.add_argument(\"--experiment_root\", type=str, \n",
    "                      default='experiments',\n",
    "                      help=\"Local output dir\")\n",
    "#   parser.add_argument(\"--experiment_name\", type=str, \n",
    "#                       required=True,\n",
    "#                       help=\"Experiment name\")\n",
    "  \n",
    "  # Dataset\n",
    "#   parser.add_argument(\"--dataset_root\", type=str, required=True,\n",
    "#                       help=\"Dataset root\")\n",
    "#   parser.add_argument(\"--dataset_name\", type=str, required=True,\n",
    "#                       help=\"Dataset name: CIFAR10, CIFAR100, TinyImageNet\")\n",
    "  parser.add_argument(\"--split_idxs_root\", type=str, default='split_idxs',\n",
    "                      help=\"Split idxs root\")\n",
    "  parser.add_argument(\"--val_split\", type=float, default=0.1,\n",
    "                      help=\"Validation set split: 0.1 default\")\n",
    "  parser.add_argument(\"--augmentation_noise_type\", type=str, \n",
    "                      default='occlusion',\n",
    "                      help=\"Augmentation noise type: occlusion\")\n",
    "  parser.add_argument(\"--batch_size\", type=int, default=128,\n",
    "                      help=\"batch_size\")\n",
    "  parser.add_argument(\"--num_workers\", type=int, default=2,\n",
    "                      help=\"num_workers\")\n",
    "  parser.add_argument('--drop_last', action='store_true', default=False,\n",
    "                      help='Drop last batch remainder')\n",
    "  \n",
    "  # Model\n",
    "  parser.add_argument(\"--model_key\", type=str, default='resnet18',\n",
    "                      help=\"Model: resnet18, resnet34, ..., densenet_cifar\")\n",
    "  parser.add_argument(\"--train_mode\", type=str, \n",
    "                      default='baseline',\n",
    "                      help=\"Train mode: baseline, ic_only, sdn\")\n",
    "  parser.add_argument('--bn_time_affine', action='store_true', default=False,\n",
    "                      help='Use temporal affine transforms in BatchNorm')\n",
    "  parser.add_argument('--bn_time_stats', action='store_true', default=False,\n",
    "                      help='Use temporal stats in BatchNorm')\n",
    "  parser.add_argument(\"--tdl_mode\", type=str, \n",
    "                      default='OSD',\n",
    "                      help=\"TDL mode: OSD, EWS, noise\")\n",
    "  parser.add_argument(\"--tdl_alpha\", type=float, default=0.0,\n",
    "                      help=\"TDL alpha for EWS temporal kernel\")\n",
    "  parser.add_argument(\"--noise_var\", type=float, default=0.0,\n",
    "                      help=\"Noise variance on noise temporal kernel\")\n",
    "  parser.add_argument(\"--lambda_val\", type=float, default=1.0,\n",
    "                      help=\"TD lambda value\")\n",
    "  parser.add_argument('--cascaded', action='store_true', default=False,\n",
    "                      help='Cascaded net')\n",
    "  parser.add_argument(\"--cascaded_scheme\", type=str, default='parallel',\n",
    "                      help=\"cascaded_scheme: serial, parallel\")\n",
    "  parser.add_argument(\"--init_tau\", type=float, default=0.01,\n",
    "                      help=\"Initial tau valu\")\n",
    "  parser.add_argument(\"--target_IC_inference_costs\", nargs=\"+\", type=float, \n",
    "                      default=[0.15, 0.30, 0.45, 0.60, 0.75, 0.90],\n",
    "                      help=\"target_IC_inference_costs\")\n",
    "  parser.add_argument('--tau_weighted_loss', action='store_true', default=False,\n",
    "                      help='Use tau weights on IC losses')\n",
    "  \n",
    "  \n",
    "  # Optimizer\n",
    "  parser.add_argument(\"--learning_rate\", type=float, default=0.1,\n",
    "                      help=\"learning rate\")\n",
    "  parser.add_argument(\"--momentum\", type=float, default=0.9,\n",
    "                      help=\"momentum\")\n",
    "  parser.add_argument(\"--weight_decay\", type=float, default=0.0005,\n",
    "                      help=\"weight_decay\")\n",
    "  parser.add_argument('--nesterov', action='store_true', default=False,\n",
    "                      help='Nesterov for SGD')\n",
    "  parser.add_argument('--normalize_loss', action='store_true', default=False,\n",
    "                      help='Normalize temporal loss')\n",
    "  \n",
    "  # LR scheduler\n",
    "  parser.add_argument(\"--lr_milestones\", nargs=\"+\", type=float, \n",
    "                      default=[60, 120, 150],\n",
    "                      help=\"lr_milestones\")\n",
    "  parser.add_argument(\"--lr_schedule_gamma\", type=float, default=0.2,\n",
    "                      help=\"lr_schedule_gamma\")\n",
    "  \n",
    "  # Other\n",
    "  parser.add_argument('--use_cpu', action='store_true', default=False,\n",
    "                      help='Use cpu')\n",
    "  parser.add_argument(\"--device\", type=int, default=0,\n",
    "                      help=\"GPU device num\")\n",
    "  parser.add_argument(\"--n_epochs\", type=int, default=150,\n",
    "                      help=\"Number of epochs to train\")\n",
    "  parser.add_argument(\"--eval_freq\", type=int, default=10,\n",
    "                      help=\"eval_freq\")\n",
    "  parser.add_argument(\"--save_freq\", type=int, default=5,\n",
    "                      help=\"save_freq\")\n",
    "  parser.add_argument('--keep_logits', action='store_true', default=False,\n",
    "                      help='Keep logits')\n",
    "  parser.add_argument('--debug', action='store_true', default=False,\n",
    "                      help='Debug mode')\n",
    "  \n",
    "  args = parser.parse_args(\"\")\n",
    "  \n",
    "  # Flag check\n",
    "  if args.tdl_mode == 'EWS':\n",
    "    assert args.tdl_alpha is not None, 'tdl_alpha not set'\n",
    "  elif args.tdl_mode == 'noise':\n",
    "    assert args.noise_var is not None, 'noise_var not set'\n",
    "    \n",
    "  return args"
   ],
   "outputs": [],
   "metadata": {}
  },
  {
   "cell_type": "code",
   "execution_count": 4,
   "source": [
    "args = setup_args()"
   ],
   "outputs": [],
   "metadata": {}
  },
  {
   "cell_type": "markdown",
   "source": [
    "## Override Args"
   ],
   "metadata": {}
  },
  {
   "cell_type": "code",
   "execution_count": 5,
   "source": [
    "args.dataset_root = \"/scratch/work/public/imagenet\" \n",
    "args.experiment_root = \"/scratch/sbp354/cascade_output/experiments\" \n",
    "args.split_idxs_root = \"/scratch/sbp354/cascade_output/split_idx\"\n",
    "  \n",
    "# Set required flags|\n",
    "args.dataset_name = 'ImageNet2012_16classes'  # CIFAR10, CIFAR100, ImageNet2012\n",
    "args.model_key = 'resnet18'\n",
    "args.dataset_key = 'test'  # val, test\n",
    "if args.dataset_name == \"ImageNet2012_16classes\":\n",
    "  args.experiment_name = f\"{args.model_key}_{args.dataset_name}\"\n",
    "elif \"cifar\" in args.dataset_name.lower():\n",
    "  args.experiment_name = f\"{args.model_key}_{args.dataset_name}\"\n",
    "else:\n",
    "  print(\"TinyImageNet not implemented yet!\")\n",
    "  \n",
    "args.val_split = 0.1\n",
    "args.test_split = 0.1\n",
    "args.tdl_mode = 'OSD'  # OSD, EWS\n",
    "args.tau_weighted_loss = True\n",
    "args.random_seed = 42\n",
    "args.grayscale = False"
   ],
   "outputs": [],
   "metadata": {}
  },
  {
   "cell_type": "code",
   "execution_count": 6,
   "source": [
    "# Make reproducible\n",
    "utils.make_reproducible(args.random_seed)"
   ],
   "outputs": [
    {
     "output_type": "stream",
     "name": "stdout",
     "text": [
      "Making reproducible on seed 42\n"
     ]
    }
   ],
   "metadata": {}
  },
  {
   "cell_type": "markdown",
   "source": [
    "## Setup Figs Dir"
   ],
   "metadata": {}
  },
  {
   "cell_type": "code",
   "execution_count": 7,
   "source": [
    "figs_root = 'figs'\n",
    "if not os.path.exists(figs_root):\n",
    "  os.makedirs(figs_root)\n",
    "  \n",
    "fig_path = os.path.join(figs_root, f'{args.dataset_name}.pdf')\n",
    "fig_path"
   ],
   "outputs": [
    {
     "output_type": "execute_result",
     "data": {
      "text/plain": [
       "'figs/ImageNet2012_16classes.pdf'"
      ]
     },
     "metadata": {},
     "execution_count": 7
    }
   ],
   "metadata": {}
  },
  {
   "cell_type": "markdown",
   "source": [
    "## Model Label Lookup"
   ],
   "metadata": {}
  },
  {
   "cell_type": "code",
   "execution_count": 8,
   "source": [
    "MODEL_LBL_LOOKUP = {\n",
    "    \"cascaded__serial\": \"SerialTD\",\n",
    "    \"cascaded__parallel\": \"CascadedTD\",\n",
    "    \"cascaded__serial__multiple_fcs\": \"SerialTD-MultiHead\",  # (SDN)\n",
    "    \"cascaded__parallel__multiple_fcs\": \"CascadedTD-MultiHead\",\n",
    "    \"cascaded_seq__serial\": \"SerialCE\",\n",
    "    \"cascaded_seq__parallel\": \"CascadedCE\",\n",
    "}"
   ],
   "outputs": [],
   "metadata": {}
  },
  {
   "cell_type": "markdown",
   "source": [
    "## Colors"
   ],
   "metadata": {}
  },
  {
   "cell_type": "code",
   "execution_count": 9,
   "source": [
    "colors_src = {\n",
    "    \"CascadedTDColor\": np.array([182,54,121]) / 255.0,  # CascadedTDColor,\n",
    "    \"CascadedCEColor\": np.array([127,38,110]) / 255.0,  # CascadedCEColor,\n",
    "    \"SerialTDColor\": np.array([77,184,255]) / 255.0,  # SerialTDColor,\n",
    "    \"SerialCEColor\": np.array([54,129,179]) / 255.0,  # SerialCEColor,\n",
    "}\n",
    "\n",
    "model_colors = {\n",
    "    \"cascaded__serial\": colors_src[\"SerialTDColor\"],\n",
    "    \"cascaded__parallel\": colors_src[\"CascadedTDColor\"],\n",
    "    \"cascaded__serial__multiple_fcs\": colors_src[\"SerialTDColor\"],  # (SDN)\n",
    "    \"cascaded__parallel__multiple_fcs\": colors_src[\"CascadedTDColor\"],\n",
    "    \"cascaded_seq__serial\": colors_src[\"SerialCEColor\"],\n",
    "    \"cascaded_seq__parallel\": colors_src[\"CascadedCEColor\"],\n",
    "}"
   ],
   "outputs": [],
   "metadata": {}
  },
  {
   "cell_type": "markdown",
   "source": [
    "## Setup Data Handler"
   ],
   "metadata": {}
  },
  {
   "cell_type": "code",
   "execution_count": 10,
   "source": [
    "# Data Handler\n",
    "data_dict = {\n",
    "    \"dataset_name\": args.dataset_name,\n",
    "    \"experiment_root\":args.experiment_root,\n",
    "    \"data_root\": args.dataset_root,\n",
    "    \"val_split\": args.val_split,\n",
    "    \"test_split\": args.test_split,\n",
    "    \"split_idxs_root\": args.split_idxs_root,\n",
    "    \"noise_type\": args.augmentation_noise_type,\n",
    "    \"load_previous_splits\": True,\n",
    "    \"grayscale\": False,\n",
    "    \"imagenet_params\": {\n",
    "      #\"target_classes\": [\"terrier\"],\n",
    "      \"max_classes\": 1000,\n",
    "    }\n",
    "}\n",
    "data_handler = DataHandler(**data_dict)"
   ],
   "outputs": [
    {
     "output_type": "stream",
     "name": "stdout",
     "text": [
      "Setting split idxs root to /scratch/sbp354/cascade_output/split_idx/ImageNet2012_16classes\n",
      "EXPERIMENT_ROOT /scratch/sbp354/cascade_output/experiments\n",
      "Loading data from /scratch/sbp354/cascade_output/experiments\n",
      "number of classes 16\n",
      "Fin.\n",
      "['n02814533', 'n03100240', 'n04285008', 'n02132136', 'n02133161', 'n02134084', 'n02134418', 'n02085782', 'n02085936', 'n02086079', 'n02086240', 'n02086646', 'n02086910', 'n02087046', 'n02087394', 'n02088094', 'n02088238', 'n02088364', 'n02088466', 'n02088632', 'n02089078', 'n02089867', 'n02089973', 'n02090379', 'n02090622', 'n02090721', 'n02091032', 'n02091134', 'n02091244', 'n02091467', 'n02091635', 'n02091831', 'n02092002', 'n02092339', 'n02093256', 'n02093428', 'n02093647', 'n02093754', 'n02093859', 'n02093991', 'n02094114', 'n02094258', 'n02094433', 'n02095314', 'n02095570', 'n02095889', 'n02096051', 'n02096294', 'n02096437', 'n02096585', 'n02097047', 'n02097130', 'n02097209', 'n02097298', 'n02097474', 'n02097658', 'n02098105', 'n02098286', 'n02099267', 'n02099429', 'n02099601', 'n02099712', 'n02099849', 'n02100236', 'n02100583', 'n02100735', 'n02100877', 'n02101006', 'n02101388', 'n02101556', 'n02102040', 'n02102177', 'n02102318', 'n02102480', 'n02102973', 'n02104029', 'n02104365', 'n02105056', 'n02105162', 'n02105251', 'n02105505', 'n02105641', 'n02105855', 'n02106030', 'n02106166', 'n02106382', 'n02106550', 'n02106662', 'n02107142', 'n02107312', 'n02107574', 'n02107683', 'n02107908', 'n02108000', 'n02108422', 'n02108551', 'n02108915', 'n02109047', 'n02109525', 'n02109961', 'n02110063', 'n02110185', 'n02110627', 'n02110806', 'n02110958', 'n02111129', 'n02111277', 'n02111500', 'n02112018', 'n02112350', 'n02112706', 'n02113023', 'n02113624', 'n02113712', 'n02113799', 'n02113978', 'n03417042', 'n03796401', 'n04467665', 'n03085013', 'n04505470', 'n02823428', 'n03937543', 'n03983396', 'n04557648', 'n04560804', 'n04579145', 'n04591713', 'n02951358', 'n03344393', 'n03662601', 'n04273569', 'n04612504', 'n02690373', 'n02123045', 'n02123159', 'n02123394', 'n02123597', 'n02124075', 'n02125311', 'n02835271', 'n03792782', 'n04111531', 'n02504013', 'n02504458', 'n01514859', 'n01530575', 'n01531178', 'n01532829', 'n01534433', 'n01537544', 'n01558993', 'n01560419', 'n01582220', 'n01592084', 'n01601694', 'n01614925', 'n01616318', 'n01622779', 'n01795545', 'n01796340', 'n01797886', 'n01798484', 'n01817953', 'n01818515', 'n01819313', 'n01820546', 'n01824575', 'n01828970', 'n01829413', 'n01833805', 'n01843065', 'n01843383', 'n01855032', 'n01855672', 'n01860187', 'n02002556', 'n02002724', 'n02006656', 'n02007558', 'n02009229', 'n02009912', 'n02011460', 'n02013706', 'n02017213', 'n02018207', 'n02018795', 'n02025239', 'n02027492', 'n02028035', 'n02033041', 'n02037110', 'n02051845', 'n02056570', 'n02791124', 'n03376595', 'n04099969', 'n04429376', 'n02708093', 'n03196217', 'n04548280', 'n03041632']\n",
      "PATH_DF LEN: 255868\n",
      "size of path_df: 255868\n",
      "[]\n",
      "n_subset_classes: 16\n",
      "max_classes: 1000\n",
      "PATH DF SIZE AFTER SUBSET FUNCTION CALL: 255868\n",
      "# Classes: 16\n",
      "CREATE_DATASETS PATH_DF: 255868\n",
      "Loading data from /scratch/sbp354/cascade_output/experiments\n",
      "number of classes 16\n",
      "Fin.\n",
      "10    136173\n",
      "3      63541\n",
      "5       8855\n",
      "7       7800\n",
      "4       6406\n",
      "1       5200\n",
      "8       4876\n",
      "6       3900\n",
      "9       3891\n",
      "15      3759\n",
      "11      2600\n",
      "12      2600\n",
      "2       2600\n",
      "14      1300\n",
      "0       1300\n",
      "13      1067\n",
      "Name: y, dtype: int64\n",
      "Saving split locs to /scratch/sbp354/cascade_output/split_idx/ImageNet2012_16classes/0.1-0.1_val_test_split.json...\n",
      "Loading train data...\n",
      "207,260 train examples loaded.\n",
      "Loading validation data...\n",
      "23,025 train examples loaded.\n",
      "Loading test data...\n",
      "25,583 test examples loaded.\n",
      "Complete.\n"
     ]
    }
   ],
   "metadata": {}
  },
  {
   "cell_type": "code",
   "execution_count": 11,
   "source": [
    "# Set Loaders\n",
    "test_loader = data_handler.build_loader(args.dataset_key, args)"
   ],
   "outputs": [
    {
     "output_type": "stream",
     "name": "stdout",
     "text": [
      "DATASET_SRC <datasets.imagenet2012_handler.ImagenetDataset object at 0x7f69c2592430>\n"
     ]
    }
   ],
   "metadata": {}
  },
  {
   "cell_type": "markdown",
   "source": [
    "## Load Experiment Data"
   ],
   "metadata": {}
  },
  {
   "cell_type": "code",
   "execution_count": 21,
   "source": [
    "# Set experiment root\n",
    "exp_root = os.path.join(args.experiment_root,\n",
    "                        args.experiment_name,\n",
    "                        'experiments')\n",
    "print(exp_root)\n",
    "\n",
    "#exp_root = f\"/hdd/mliuzzolino/cascaded_nets/{args.experiment_name}/experiments\"\n",
    "            \n",
    "\n",
    "# Find exp paths\n",
    "exp_paths = [i for i in np.sort(glob.glob(f'{exp_root}/*/outputs/*__{args.dataset_key}__{args.tdl_mode}.pt'))\\\n",
    "            if str.find(i, \"grayscale\")>-1]\n",
    "exp_paths_seq = [i for i in np.sort(glob.glob(f'{exp_root}/*/outputs/*__{args.dataset_key}__{args.tdl_mode}.pt'))\\\n",
    "            if str.find(i, \"_seq\")>-1]\n",
    "exp_paths.append(exp_paths_seq)\n",
    "exp_paths = np.array(exp_paths)\n",
    "print(f\"Num paths: {len(exp_paths)}\")\n",
    "for path in exp_paths:\n",
    "    print(path)"
   ],
   "outputs": [
    {
     "output_type": "stream",
     "name": "stdout",
     "text": [
      "/scratch/sbp354/cascade_output/experiments/resnet18_ImageNet2012_16classes/experiments\n",
      "Num paths: 5\n",
      "/scratch/sbp354/cascade_output/experiments/resnet18_ImageNet2012_16classes/experiments/td(0.0),parallel,lr_0.01,wd_0.0005,seed_42,grayscale/outputs/output_representations__test__OSD.pt\n",
      "/scratch/sbp354/cascade_output/experiments/resnet18_ImageNet2012_16classes/experiments/td(0.0),parallel,lr_0.01,wd_0.0005,seed_42,multiple_fcs,grayscale/outputs/output_representations__test__OSD.pt\n",
      "/scratch/sbp354/cascade_output/experiments/resnet18_ImageNet2012_16classes/experiments/td(1.0),serial,lr_0.01,wd_0.0005,seed_42,grayscale/outputs/output_representations__test__OSD.pt\n",
      "/scratch/sbp354/cascade_output/experiments/resnet18_ImageNet2012_16classes/experiments/td(1.0),serial,lr_0.01,wd_0.0005,seed_42,multiple_fcs,grayscale/outputs/output_representations__test__OSD.pt\n",
      "['/scratch/sbp354/cascade_output/experiments/resnet18_ImageNet2012_16classes/experiments/cascaded_seq__parallel,lr_0.01,wd_0.0005,seed_542/outputs/output_representations__test__OSD.pt']\n"
     ]
    },
    {
     "output_type": "stream",
     "name": "stderr",
     "text": [
      "/tmp/ipykernel_2668710/715224491.py:16: VisibleDeprecationWarning: Creating an ndarray from ragged nested sequences (which is a list-or-tuple of lists-or-tuples-or ndarrays with different lengths or shapes) is deprecated. If you meant to do this, you must specify 'dtype=object' when creating the ndarray.\n",
      "  exp_paths = np.array(exp_paths)\n"
     ]
    }
   ],
   "metadata": {}
  },
  {
   "cell_type": "markdown",
   "source": [
    "#### Build Dataframe"
   ],
   "metadata": {}
  },
  {
   "cell_type": "code",
   "execution_count": 22,
   "source": [
    "df_dict = defaultdict(list)\n",
    "outrep_id = 0\n",
    "outreps_dict = {}\n",
    "ic_costs_lookup = {}\n",
    "exp_path_lookup = {}\n",
    "for i, exp_path in enumerate(exp_paths):\n",
    "  outrep_id = f'rep_id_{i}'\n",
    "  outrep = torch.load(exp_path)\n",
    "  \n",
    "  basename = [ele for ele in exp_path.split(os.path.sep) if 'seed_' in ele][0]\n",
    "  keys = basename.split(',')\n",
    "  print(keys)\n",
    "  if keys[0].startswith('std') or keys[0].startswith('cascaded_seq'):\n",
    "    model_key, lr, weight_decay, seed = keys\n",
    "    td_key = 'std'\n",
    "  else:\n",
    "    td_key, scheme_key, lr, weight_decay, seed = keys[:5]\n",
    "    model_key = f'cascaded__{scheme_key}'\n",
    "    other_keys = keys[5:]\n",
    "    multiple_fcs = 'multiple_fcs' in other_keys\n",
    "    tau_weighted = 'tau_weighted' in other_keys\n",
    "    pretrained_weights = 'pretrained_weights' in other_keys\n",
    "    if multiple_fcs:\n",
    "      model_key = f'{model_key}__multiple_fcs'\n",
    "    if tau_weighted:\n",
    "      model_key = f'{model_key}__tau_weighted'\n",
    "    if pretrained_weights:\n",
    "      model_key = f'{model_key}__pretrained_weights'\n",
    "\n",
    "  if model_key != 'std':\n",
    "    exp_root = os.path.dirname(os.path.dirname(exp_path))\n",
    "    IC_cost_path = os.path.join(exp_root, 'ic_costs.pt')\n",
    "    if os.path.exists(IC_cost_path):\n",
    "      IC_costs = torch.load(IC_cost_path)\n",
    "    else:\n",
    "      IC_costs = None\n",
    "  else:\n",
    "    IC_costs = None\n",
    "    \n",
    "  lr = float(lr.split(\"_\")[1])\n",
    "  weight_decay = float(weight_decay.split(\"_\")[1])\n",
    "  print(model_key)\n",
    "  df_dict['model'].append(model_key)\n",
    "  df_dict['td_lambda'].append(td_key)\n",
    "  df_dict['lr'].append(lr)\n",
    "  df_dict['weight_decay'].append(weight_decay)\n",
    "  df_dict['seed'].append(seed)\n",
    "  df_dict['outrep_id'].append(outrep_id)\n",
    "  \n",
    "\n",
    "  outreps_dict[outrep_id] = outrep\n",
    "  ic_costs_lookup[outrep_id] = IC_costs\n",
    "  exp_path_lookup[outrep_id] = exp_path\n",
    "analysis_df = pd.DataFrame(df_dict)"
   ],
   "outputs": [
    {
     "output_type": "stream",
     "name": "stdout",
     "text": [
      "['td(0.0)', 'parallel', 'lr_0.01', 'wd_0.0005', 'seed_42', 'grayscale']\n",
      "cascaded__parallel\n",
      "['td(0.0)', 'parallel', 'lr_0.01', 'wd_0.0005', 'seed_42', 'multiple_fcs', 'grayscale']\n",
      "cascaded__parallel__multiple_fcs\n",
      "['td(1.0)', 'serial', 'lr_0.01', 'wd_0.0005', 'seed_42', 'grayscale']\n",
      "cascaded__serial\n",
      "['td(1.0)', 'serial', 'lr_0.01', 'wd_0.0005', 'seed_42', 'multiple_fcs', 'grayscale']\n",
      "cascaded__serial__multiple_fcs\n"
     ]
    },
    {
     "output_type": "error",
     "ename": "AttributeError",
     "evalue": "'list' object has no attribute 'seek'. You can only torch.load from a file that is seekable. Please pre-load the data into a buffer like io.BytesIO and try to load from it instead.",
     "traceback": [
      "\u001b[0;31m---------------------------------------------------------------------------\u001b[0m",
      "\u001b[0;31mAttributeError\u001b[0m                            Traceback (most recent call last)",
      "\u001b[0;32m/scratch/sbp354/pytorch-example/ext3/miniconda3/lib/python3.9/site-packages/torch/serialization.py\u001b[0m in \u001b[0;36m_check_seekable\u001b[0;34m(f)\u001b[0m\n\u001b[1;32m    307\u001b[0m     \u001b[0;32mtry\u001b[0m\u001b[0;34m:\u001b[0m\u001b[0;34m\u001b[0m\u001b[0;34m\u001b[0m\u001b[0m\n\u001b[0;32m--> 308\u001b[0;31m         \u001b[0mf\u001b[0m\u001b[0;34m.\u001b[0m\u001b[0mseek\u001b[0m\u001b[0;34m(\u001b[0m\u001b[0mf\u001b[0m\u001b[0;34m.\u001b[0m\u001b[0mtell\u001b[0m\u001b[0;34m(\u001b[0m\u001b[0;34m)\u001b[0m\u001b[0;34m)\u001b[0m\u001b[0;34m\u001b[0m\u001b[0;34m\u001b[0m\u001b[0m\n\u001b[0m\u001b[1;32m    309\u001b[0m         \u001b[0;32mreturn\u001b[0m \u001b[0;32mTrue\u001b[0m\u001b[0;34m\u001b[0m\u001b[0;34m\u001b[0m\u001b[0m\n",
      "\u001b[0;31mAttributeError\u001b[0m: 'list' object has no attribute 'seek'",
      "\nDuring handling of the above exception, another exception occurred:\n",
      "\u001b[0;31mAttributeError\u001b[0m                            Traceback (most recent call last)",
      "\u001b[0;32m/tmp/ipykernel_2668710/3287783418.py\u001b[0m in \u001b[0;36m<module>\u001b[0;34m\u001b[0m\n\u001b[1;32m      6\u001b[0m \u001b[0;32mfor\u001b[0m \u001b[0mi\u001b[0m\u001b[0;34m,\u001b[0m \u001b[0mexp_path\u001b[0m \u001b[0;32min\u001b[0m \u001b[0menumerate\u001b[0m\u001b[0;34m(\u001b[0m\u001b[0mexp_paths\u001b[0m\u001b[0;34m)\u001b[0m\u001b[0;34m:\u001b[0m\u001b[0;34m\u001b[0m\u001b[0;34m\u001b[0m\u001b[0m\n\u001b[1;32m      7\u001b[0m   \u001b[0moutrep_id\u001b[0m \u001b[0;34m=\u001b[0m \u001b[0;34mf'rep_id_{i}'\u001b[0m\u001b[0;34m\u001b[0m\u001b[0;34m\u001b[0m\u001b[0m\n\u001b[0;32m----> 8\u001b[0;31m   \u001b[0moutrep\u001b[0m \u001b[0;34m=\u001b[0m \u001b[0mtorch\u001b[0m\u001b[0;34m.\u001b[0m\u001b[0mload\u001b[0m\u001b[0;34m(\u001b[0m\u001b[0mexp_path\u001b[0m\u001b[0;34m)\u001b[0m\u001b[0;34m\u001b[0m\u001b[0;34m\u001b[0m\u001b[0m\n\u001b[0m\u001b[1;32m      9\u001b[0m \u001b[0;34m\u001b[0m\u001b[0m\n\u001b[1;32m     10\u001b[0m   \u001b[0mbasename\u001b[0m \u001b[0;34m=\u001b[0m \u001b[0;34m[\u001b[0m\u001b[0mele\u001b[0m \u001b[0;32mfor\u001b[0m \u001b[0mele\u001b[0m \u001b[0;32min\u001b[0m \u001b[0mexp_path\u001b[0m\u001b[0;34m.\u001b[0m\u001b[0msplit\u001b[0m\u001b[0;34m(\u001b[0m\u001b[0mos\u001b[0m\u001b[0;34m.\u001b[0m\u001b[0mpath\u001b[0m\u001b[0;34m.\u001b[0m\u001b[0msep\u001b[0m\u001b[0;34m)\u001b[0m \u001b[0;32mif\u001b[0m \u001b[0;34m'seed_'\u001b[0m \u001b[0;32min\u001b[0m \u001b[0mele\u001b[0m\u001b[0;34m]\u001b[0m\u001b[0;34m[\u001b[0m\u001b[0;36m0\u001b[0m\u001b[0;34m]\u001b[0m\u001b[0;34m\u001b[0m\u001b[0;34m\u001b[0m\u001b[0m\n",
      "\u001b[0;32m/scratch/sbp354/pytorch-example/ext3/miniconda3/lib/python3.9/site-packages/torch/serialization.py\u001b[0m in \u001b[0;36mload\u001b[0;34m(f, map_location, pickle_module, **pickle_load_args)\u001b[0m\n\u001b[1;32m    577\u001b[0m         \u001b[0mpickle_load_args\u001b[0m\u001b[0;34m[\u001b[0m\u001b[0;34m'encoding'\u001b[0m\u001b[0;34m]\u001b[0m \u001b[0;34m=\u001b[0m \u001b[0;34m'utf-8'\u001b[0m\u001b[0;34m\u001b[0m\u001b[0;34m\u001b[0m\u001b[0m\n\u001b[1;32m    578\u001b[0m \u001b[0;34m\u001b[0m\u001b[0m\n\u001b[0;32m--> 579\u001b[0;31m     \u001b[0;32mwith\u001b[0m \u001b[0m_open_file_like\u001b[0m\u001b[0;34m(\u001b[0m\u001b[0mf\u001b[0m\u001b[0;34m,\u001b[0m \u001b[0;34m'rb'\u001b[0m\u001b[0;34m)\u001b[0m \u001b[0;32mas\u001b[0m \u001b[0mopened_file\u001b[0m\u001b[0;34m:\u001b[0m\u001b[0;34m\u001b[0m\u001b[0;34m\u001b[0m\u001b[0m\n\u001b[0m\u001b[1;32m    580\u001b[0m         \u001b[0;32mif\u001b[0m \u001b[0m_is_zipfile\u001b[0m\u001b[0;34m(\u001b[0m\u001b[0mopened_file\u001b[0m\u001b[0;34m)\u001b[0m\u001b[0;34m:\u001b[0m\u001b[0;34m\u001b[0m\u001b[0;34m\u001b[0m\u001b[0m\n\u001b[1;32m    581\u001b[0m             \u001b[0;31m# The zipfile reader is going to advance the current file position.\u001b[0m\u001b[0;34m\u001b[0m\u001b[0;34m\u001b[0m\u001b[0;34m\u001b[0m\u001b[0m\n",
      "\u001b[0;32m/scratch/sbp354/pytorch-example/ext3/miniconda3/lib/python3.9/site-packages/torch/serialization.py\u001b[0m in \u001b[0;36m_open_file_like\u001b[0;34m(name_or_buffer, mode)\u001b[0m\n\u001b[1;32m    233\u001b[0m             \u001b[0;32mreturn\u001b[0m \u001b[0m_open_buffer_writer\u001b[0m\u001b[0;34m(\u001b[0m\u001b[0mname_or_buffer\u001b[0m\u001b[0;34m)\u001b[0m\u001b[0;34m\u001b[0m\u001b[0;34m\u001b[0m\u001b[0m\n\u001b[1;32m    234\u001b[0m         \u001b[0;32melif\u001b[0m \u001b[0;34m'r'\u001b[0m \u001b[0;32min\u001b[0m \u001b[0mmode\u001b[0m\u001b[0;34m:\u001b[0m\u001b[0;34m\u001b[0m\u001b[0;34m\u001b[0m\u001b[0m\n\u001b[0;32m--> 235\u001b[0;31m             \u001b[0;32mreturn\u001b[0m \u001b[0m_open_buffer_reader\u001b[0m\u001b[0;34m(\u001b[0m\u001b[0mname_or_buffer\u001b[0m\u001b[0;34m)\u001b[0m\u001b[0;34m\u001b[0m\u001b[0;34m\u001b[0m\u001b[0m\n\u001b[0m\u001b[1;32m    236\u001b[0m         \u001b[0;32melse\u001b[0m\u001b[0;34m:\u001b[0m\u001b[0;34m\u001b[0m\u001b[0;34m\u001b[0m\u001b[0m\n\u001b[1;32m    237\u001b[0m             \u001b[0;32mraise\u001b[0m \u001b[0mRuntimeError\u001b[0m\u001b[0;34m(\u001b[0m\u001b[0;34mf\"Expected 'r' or 'w' in mode but got {mode}\"\u001b[0m\u001b[0;34m)\u001b[0m\u001b[0;34m\u001b[0m\u001b[0;34m\u001b[0m\u001b[0m\n",
      "\u001b[0;32m/scratch/sbp354/pytorch-example/ext3/miniconda3/lib/python3.9/site-packages/torch/serialization.py\u001b[0m in \u001b[0;36m__init__\u001b[0;34m(self, buffer)\u001b[0m\n\u001b[1;32m    218\u001b[0m     \u001b[0;32mdef\u001b[0m \u001b[0m__init__\u001b[0m\u001b[0;34m(\u001b[0m\u001b[0mself\u001b[0m\u001b[0;34m,\u001b[0m \u001b[0mbuffer\u001b[0m\u001b[0;34m)\u001b[0m\u001b[0;34m:\u001b[0m\u001b[0;34m\u001b[0m\u001b[0;34m\u001b[0m\u001b[0m\n\u001b[1;32m    219\u001b[0m         \u001b[0msuper\u001b[0m\u001b[0;34m(\u001b[0m\u001b[0m_open_buffer_reader\u001b[0m\u001b[0;34m,\u001b[0m \u001b[0mself\u001b[0m\u001b[0;34m)\u001b[0m\u001b[0;34m.\u001b[0m\u001b[0m__init__\u001b[0m\u001b[0;34m(\u001b[0m\u001b[0mbuffer\u001b[0m\u001b[0;34m)\u001b[0m\u001b[0;34m\u001b[0m\u001b[0;34m\u001b[0m\u001b[0m\n\u001b[0;32m--> 220\u001b[0;31m         \u001b[0m_check_seekable\u001b[0m\u001b[0;34m(\u001b[0m\u001b[0mbuffer\u001b[0m\u001b[0;34m)\u001b[0m\u001b[0;34m\u001b[0m\u001b[0;34m\u001b[0m\u001b[0m\n\u001b[0m\u001b[1;32m    221\u001b[0m \u001b[0;34m\u001b[0m\u001b[0m\n\u001b[1;32m    222\u001b[0m \u001b[0;34m\u001b[0m\u001b[0m\n",
      "\u001b[0;32m/scratch/sbp354/pytorch-example/ext3/miniconda3/lib/python3.9/site-packages/torch/serialization.py\u001b[0m in \u001b[0;36m_check_seekable\u001b[0;34m(f)\u001b[0m\n\u001b[1;32m    309\u001b[0m         \u001b[0;32mreturn\u001b[0m \u001b[0;32mTrue\u001b[0m\u001b[0;34m\u001b[0m\u001b[0;34m\u001b[0m\u001b[0m\n\u001b[1;32m    310\u001b[0m     \u001b[0;32mexcept\u001b[0m \u001b[0;34m(\u001b[0m\u001b[0mio\u001b[0m\u001b[0;34m.\u001b[0m\u001b[0mUnsupportedOperation\u001b[0m\u001b[0;34m,\u001b[0m \u001b[0mAttributeError\u001b[0m\u001b[0;34m)\u001b[0m \u001b[0;32mas\u001b[0m \u001b[0me\u001b[0m\u001b[0;34m:\u001b[0m\u001b[0;34m\u001b[0m\u001b[0;34m\u001b[0m\u001b[0m\n\u001b[0;32m--> 311\u001b[0;31m         \u001b[0mraise_err_msg\u001b[0m\u001b[0;34m(\u001b[0m\u001b[0;34m[\u001b[0m\u001b[0;34m\"seek\"\u001b[0m\u001b[0;34m,\u001b[0m \u001b[0;34m\"tell\"\u001b[0m\u001b[0;34m]\u001b[0m\u001b[0;34m,\u001b[0m \u001b[0me\u001b[0m\u001b[0;34m)\u001b[0m\u001b[0;34m\u001b[0m\u001b[0;34m\u001b[0m\u001b[0m\n\u001b[0m\u001b[1;32m    312\u001b[0m     \u001b[0;32mreturn\u001b[0m \u001b[0;32mFalse\u001b[0m\u001b[0;34m\u001b[0m\u001b[0;34m\u001b[0m\u001b[0m\n\u001b[1;32m    313\u001b[0m \u001b[0;34m\u001b[0m\u001b[0m\n",
      "\u001b[0;32m/scratch/sbp354/pytorch-example/ext3/miniconda3/lib/python3.9/site-packages/torch/serialization.py\u001b[0m in \u001b[0;36mraise_err_msg\u001b[0;34m(patterns, e)\u001b[0m\n\u001b[1;32m    302\u001b[0m                                 \u001b[0;34m+\u001b[0m \u001b[0;34m\" Please pre-load the data into a buffer like io.BytesIO and\"\u001b[0m\u001b[0;34m\u001b[0m\u001b[0;34m\u001b[0m\u001b[0m\n\u001b[1;32m    303\u001b[0m                                 + \" try to load from it instead.\")\n\u001b[0;32m--> 304\u001b[0;31m                 \u001b[0;32mraise\u001b[0m \u001b[0mtype\u001b[0m\u001b[0;34m(\u001b[0m\u001b[0me\u001b[0m\u001b[0;34m)\u001b[0m\u001b[0;34m(\u001b[0m\u001b[0mmsg\u001b[0m\u001b[0;34m)\u001b[0m\u001b[0;34m\u001b[0m\u001b[0;34m\u001b[0m\u001b[0m\n\u001b[0m\u001b[1;32m    305\u001b[0m         \u001b[0;32mraise\u001b[0m \u001b[0me\u001b[0m\u001b[0;34m\u001b[0m\u001b[0;34m\u001b[0m\u001b[0m\n\u001b[1;32m    306\u001b[0m \u001b[0;34m\u001b[0m\u001b[0m\n",
      "\u001b[0;31mAttributeError\u001b[0m: 'list' object has no attribute 'seek'. You can only torch.load from a file that is seekable. Please pre-load the data into a buffer like io.BytesIO and try to load from it instead."
     ]
    }
   ],
   "metadata": {
    "tags": []
   }
  },
  {
   "cell_type": "markdown",
   "source": [
    "## Build Aggregate Stats"
   ],
   "metadata": {}
  },
  {
   "cell_type": "code",
   "execution_count": 18,
   "source": [
    "df_dict = defaultdict(list)\n",
    "analysis_df = analysis_df.sort_values('model')\n",
    "for i, df_i in analysis_df.iterrows():\n",
    "  outrep_i = outreps_dict[df_i.outrep_id]\n",
    "  accs = outrep_i['correct'].float().mean(dim=1)\n",
    "  \n",
    "  for i, acc in enumerate(accs):\n",
    "    df_dict['acc'].append(acc.item() * 100)\n",
    "    if len(accs) == 1:\n",
    "      i = -1\n",
    "    df_dict['ic'].append(i)\n",
    "    for k in list(df_i.index):\n",
    "      df_dict[k].append(df_i[k])\n",
    "accs_df = pd.DataFrame(df_dict)"
   ],
   "outputs": [],
   "metadata": {}
  },
  {
   "cell_type": "code",
   "execution_count": 19,
   "source": [
    "accs_df = accs_df.sort_values(['outrep_id', 'ic'])\n",
    "\n",
    "df_dict = defaultdict(list)\n",
    "for model_key, model_df in accs_df.groupby('model'):\n",
    "  for td_lambda, lambda_df in model_df.groupby('td_lambda'):\n",
    "    for ic, ic_df in lambda_df.groupby('ic'):\n",
    "      mean_acc = np.mean(ic_df.acc)\n",
    "      sem_acc = np.std(ic_df.acc) / np.sqrt(len(ic_df.acc))\n",
    "      outrep_id = ic_df.outrep_id.iloc[0]\n",
    "      df_dict['model'].append(model_key)\n",
    "      df_dict['td_lambda'].append(td_lambda)\n",
    "      df_dict['ic'].append(ic)\n",
    "      df_dict['acc'].append(mean_acc)\n",
    "      df_dict['sem'].append(sem_acc)\n",
    "      df_dict['outrep_id'].append(outrep_id)\n",
    "      \n",
    "      flops = ic_costs_lookup[outrep_id]\n",
    "      if flops is not None:\n",
    "        try:\n",
    "          flops = flops['flops'][ic]\n",
    "        except:\n",
    "          flops = 1.0\n",
    "      df_dict['flops'].append(flops)\n",
    "stats_df = pd.DataFrame(df_dict)\n",
    "stats_df.loc[stats_df.ic==-1, 'ic'] = np.max(stats_df.ic)\n",
    "stats_df.ic = [ele+1 for ele in stats_df.ic]"
   ],
   "outputs": [],
   "metadata": {}
  },
  {
   "cell_type": "markdown",
   "source": [
    "## Accuracy vs. TD($\\lambda$) Curves"
   ],
   "metadata": {}
  },
  {
   "cell_type": "code",
   "execution_count": 20,
   "source": [
    "color = np.array([182,54,121]) / 255.0\n",
    "\n",
    "AXIS_LBL_FONTSIZE = 16\n",
    "LEGEND_FONTSIZE = 16\n",
    "TICK_FONTSIZE = 14\n",
    "FIGSIZE = (8,4) # (12,5)\n",
    "\n",
    "plt.figure(figsize=FIGSIZE)\n",
    "g = sns.lineplot(\n",
    "    x=\"td_lambda\", \n",
    "    y=\"acc\", \n",
    "    data=model_df,\n",
    "    lw=6,\n",
    "    color=color,\n",
    ")\n",
    "g = sns.scatterplot(\n",
    "    x=\"td_lambda\", \n",
    "    y=\"acc\", \n",
    "    data=model_df,\n",
    "    s=100,\n",
    "    color=color,\n",
    ")\n",
    "g.set_xticks(model_df.td_lambda.unique())\n",
    "g.set_xlabel(r\"$\\lambda$\", fontsize=AXIS_LBL_FONTSIZE)\n",
    "g.set_ylabel(\"Accuracy (%)\", fontsize=AXIS_LBL_FONTSIZE)\n",
    "g.tick_params(axis='x', labelsize=TICK_FONTSIZE)\n",
    "g.tick_params(axis='y', labelsize=TICK_FONTSIZE)\n",
    "save_path = os.path.join(\"figs\", f\"{args.dataset_name}__td_curves.pdf\")\n",
    "plt.savefig(save_path, dpi=300)\n",
    "plt.savefig(save_path.replace(\".pdf\", \".png\"), dpi=300)"
   ],
   "outputs": [
    {
     "output_type": "display_data",
     "data": {
      "image/png": "[encoded data removed]",
      "text/plain": [
       "<Figure size 576x288 with 1 Axes>"
      ]
     },
     "metadata": {
      "needs_background": "light"
     }
    }
   ],
   "metadata": {}
  },
  {
   "cell_type": "markdown",
   "source": [
    "# Compute Speed Accuracy Tradeoff"
   ],
   "metadata": {}
  },
  {
   "cell_type": "code",
   "execution_count": 21,
   "source": [
    "def compute_threshold_conf_correct(pred_conf, correct, q):\n",
    "  correct_arr = []\n",
    "  best_clf_idxs = []\n",
    "  n_clfs = pred_conf.shape[0]\n",
    "  n_samples = pred_conf.shape[1]\n",
    "  for i in range(n_samples):\n",
    "    pred_conf_i = pred_conf[:,i]\n",
    "    idxs = np.where(pred_conf_i >= q)[0]\n",
    "    if not len(idxs):\n",
    "      best_clf_idx = n_clfs - 1\n",
    "      cor_i = correct[best_clf_idx,i]\n",
    "    else:\n",
    "      best_clf_idx = idxs[0]\n",
    "      cor_i = correct[best_clf_idx,i]\n",
    "    correct_arr.append(cor_i)\n",
    "    best_clf_idxs.append(best_clf_idx)\n",
    "  avg_acc = np.mean(correct_arr)\n",
    "  return avg_acc, best_clf_idxs"
   ],
   "outputs": [],
   "metadata": {}
  },
  {
   "cell_type": "code",
   "execution_count": 22,
   "source": [
    "df_dict = defaultdict(list)\n",
    "for model_key, model_df in analysis_df.groupby('model'):\n",
    "  print(model_key)\n",
    "  if model_key == 'cascaded_seq__serial':\n",
    "    delta = 100\n",
    "  else:\n",
    "    delta = 100\n",
    "  Qs = np.linspace(0, 1, delta)\n",
    "  \n",
    "  if model_key in ['std']:\n",
    "    continue\n",
    "    \n",
    "  print(f\"\\nModel: {model_key}\")\n",
    "  for td_lambda, td_df in model_df.groupby('td_lambda'):\n",
    "    for jj, df_i in td_df.iterrows():\n",
    "      outrep_id = df_i.outrep_id\n",
    "      outrep_i = outreps_dict[outrep_id]\n",
    "      try:\n",
    "        flop_costs = ic_costs_lookup[outrep_id]['flops']\n",
    "      except:\n",
    "        for k, v in ic_costs_lookup.items():\n",
    "          if v is not None:\n",
    "            flop_costs = v['flops']\n",
    "            break\n",
    "      \n",
    "      #f_interpolate = interpolate.interp1d(range(len(flop_costs)), flop_costs, bounds_error=False)\n",
    "\n",
    "      prediction_confidence = outrep_i['prediction_confidence']\n",
    "      correct_vals = outrep_i['correct']\n",
    "\n",
    "      accs = []\n",
    "      flops = []\n",
    "      for qi, q in enumerate(Qs):\n",
    "        sys.stdout.write((f'\\rTD_lambda: {td_lambda} -- '\n",
    "                          f'df_{jj} [{jj+1}/{len(td_df)}] -- '\n",
    "                          f'Threshold, q: {q:0.2f} [{qi+1}/{len(Qs)}]'))\n",
    "        sys.stdout.flush()\n",
    "        acc_i, best_clf_idxs = compute_threshold_conf_correct(prediction_confidence, correct_vals, q)\n",
    "        avg_timesteps = np.mean(best_clf_idxs)\n",
    "        #avg_flop = f_interpolate(avg_timesteps)\n",
    "        \n",
    "        #flops.append(avg_flop)\n",
    "        df_dict['model'].append(model_key)\n",
    "        df_dict['td_lambda'].append(td_lambda)\n",
    "        df_dict['seed'].append(df_i.seed)\n",
    "        df_dict['acc'].append(acc_i * 100)\n",
    "        #df_dict['flops'].append(avg_flop)\n",
    "        df_dict['timesteps'].append(avg_timesteps)\n",
    "        df_dict['q'].append(q)\n",
    "      print(\"\\n\")\n",
    "speed_acc_data_df = pd.DataFrame(df_dict)"
   ],
   "outputs": [
    {
     "output_type": "stream",
     "name": "stdout",
     "text": [
      "cascaded__parallel\n",
      "\n",
      "Model: cascaded__parallel\n",
      "TD_lambda: td(0.0) -- df_4 [5/1] -- Threshold, q: 1.00 [100/100]\n",
      "\n",
      "TD_lambda: td(0.5) -- df_8 [9/1] -- Threshold, q: 1.00 [100/100]\n",
      "\n",
      "TD_lambda: td(1.0) -- df_10 [11/1] -- Threshold, q: 1.00 [100/100]\n",
      "\n",
      "cascaded__parallel__multiple_fcs\n",
      "\n",
      "Model: cascaded__parallel__multiple_fcs\n",
      "TD_lambda: td(0.0) -- df_3 [4/1] -- Threshold, q: 1.00 [100/100]\n",
      "\n",
      "cascaded__serial\n",
      "\n",
      "Model: cascaded__serial\n",
      "TD_lambda: td(0.0) -- df_6 [7/1] -- Threshold, q: 1.00 [100/100]\n",
      "\n",
      "TD_lambda: td(0.25) -- df_7 [8/1] -- Threshold, q: 1.00 [100/100]\n",
      "\n",
      "TD_lambda: td(0.5) -- df_9 [10/1] -- Threshold, q: 1.00 [100/100]\n",
      "\n",
      "TD_lambda: td(1.0) -- df_12 [13/1] -- Threshold, q: 1.00 [100/100]\n",
      "\n",
      "cascaded__serial__multiple_fcs\n",
      "\n",
      "Model: cascaded__serial__multiple_fcs\n",
      "TD_lambda: td(0.0) -- df_5 [6/1] -- Threshold, q: 1.00 [100/100]\n",
      "\n",
      "TD_lambda: td(1.0) -- df_11 [12/1] -- Threshold, q: 1.00 [100/100]\n",
      "\n",
      "cascaded_seq__parallel\n",
      "\n",
      "Model: cascaded_seq__parallel\n",
      "TD_lambda: std -- df_0 [1/1] -- Threshold, q: 1.00 [100/100]\n",
      "\n",
      "cascaded_seq__serial\n",
      "\n",
      "Model: cascaded_seq__serial\n",
      "TD_lambda: std -- df_1 [2/1] -- Threshold, q: 1.00 [100/100]\n",
      "\n",
      "std\n"
     ]
    }
   ],
   "metadata": {}
  },
  {
   "cell_type": "markdown",
   "source": [
    "### Agg Stats"
   ],
   "metadata": {}
  },
  {
   "cell_type": "code",
   "execution_count": 23,
   "source": [
    "def fix_df(df_src, fix_key='cascaded_seq__serial'):\n",
    "  df_src = df_src.copy()\n",
    "  df = df_src[df_src.model==fix_key]\n",
    "  df = df.sort_values('timestep_mean')\n",
    "  prev_j = None\n",
    "  for i, j in df.iterrows():\n",
    "    if j.timestep_mean != 0.0:\n",
    "      break\n",
    "    prev_j = j\n",
    "\n",
    "  for t in np.linspace(prev_j.timestep_mean, j.timestep_mean, 10)[:-1]:\n",
    "    new_j = prev_j.copy()\n",
    "    new_j.timestep_mean = t\n",
    "    new_j.timestep_mean = t\n",
    "    df = df.append(new_j, ignore_index=True)\n",
    "  df = df.sort_values('timestep_mean')\n",
    "  df_src.drop(df_src[df_src.model==fix_key].index, inplace=True)\n",
    "  df_src = pd.concat([df_src, df])\n",
    "  return df_src"
   ],
   "outputs": [],
   "metadata": {}
  },
  {
   "cell_type": "code",
   "execution_count": 24,
   "source": [
    "single_seed = None\n",
    "\n",
    "df_dict = defaultdict(list)\n",
    "for model_key, model_df in speed_acc_data_df.groupby('model'):\n",
    "  for td_lambda, td_df in model_df.groupby('td_lambda'):\n",
    "    for q, q_df in td_df.groupby('q'):\n",
    "      if single_seed is not None:\n",
    "        q_df = q_df[q_df.seed.str.contains(f\"_{single_seed}\")]\n",
    "      acc_mean = np.mean(q_df.acc)\n",
    "      n = len(q_df)\n",
    "      acc_sem = np.std(q_df.acc) / np.sqrt(n)\n",
    "      timestep_mean = np.mean(q_df.timesteps)\n",
    "      timestep_sem = np.std(q_df.timesteps) / np.sqrt(n)\n",
    "\n",
    "      df_dict['model'].append(model_key)\n",
    "      df_dict['q'].append(q)\n",
    "      df_dict['acc_mean'].append(acc_mean)\n",
    "      df_dict['acc_sem'].append(acc_sem)\n",
    "      df_dict['timestep_mean'].append(timestep_mean)\n",
    "      df_dict['timestep_sem'].append(timestep_sem)\n",
    "      df_dict['td_lambda'].append(td_lambda)\n",
    "      df_dict['n'].append(n)\n",
    "q_stat_df = pd.DataFrame(df_dict)\n",
    "\n",
    "try:\n",
    "  q_stat_df = fix_df(q_stat_df, 'cascaded_seq__serial')\n",
    "except:\n",
    "  print(\"Exception!\")"
   ],
   "outputs": [],
   "metadata": {}
  },
  {
   "cell_type": "markdown",
   "source": [
    "## Speed Accuracy Tradeoff Curves"
   ],
   "metadata": {}
  },
  {
   "cell_type": "code",
   "execution_count": 25,
   "source": [
    "print(stats_df.model.unique())"
   ],
   "outputs": [
    {
     "output_type": "stream",
     "name": "stdout",
     "text": [
      "['cascaded__parallel' 'cascaded__parallel__multiple_fcs'\n",
      " 'cascaded__serial' 'cascaded__serial__multiple_fcs'\n",
      " 'cascaded_seq__parallel' 'cascaded_seq__serial' 'std']\n"
     ]
    }
   ],
   "metadata": {}
  },
  {
   "cell_type": "code",
   "execution_count": 26,
   "source": [
    "def compute_best_lambdas(stats_df, sdn_TD1=True):\n",
    "  best_lambdas = {}\n",
    "  for model_key, model_df in stats_df.groupby('model'):\n",
    "    model_df = model_df[model_df.ic==model_df.ic.max()] \n",
    "    model_df = model_df[model_df.acc==model_df.acc.max()]\n",
    "    best_lambda = model_df.iloc[0].td_lambda\n",
    "    if sdn_TD1:\n",
    "      if 'cascaded__serial' in model_key:\n",
    "        best_lambdas[model_key] = 'td(1.0)'\n",
    "      elif 'cascaded__parallel' in model_key:\n",
    "        best_lambdas[model_key] = 'td(0.0)'\n",
    "      else:\n",
    "        best_lambdas[model_key] = best_lambda\n",
    "    else:\n",
    "      best_lambdas[model_key] = best_lambda\n",
    "  return best_lambdas"
   ],
   "outputs": [],
   "metadata": {}
  },
  {
   "cell_type": "code",
   "execution_count": 27,
   "source": [
    "def fix_legend_order(handles, labels):\n",
    "  order = [\n",
    "      'CascadedTD', \n",
    "      'CascadedTD-MultiHead', \n",
    "      'CascadedCE',\n",
    "      'SerialTD', \n",
    "      'SerialTD-MultiHead', \n",
    "      'SerialCE',\n",
    "  ]\n",
    "  idxs = []\n",
    "  for key in order:\n",
    "    if key in labels:\n",
    "      idx = labels.index(key)\n",
    "      idxs.append(idx)\n",
    "  handles = list(np.array(handles)[idxs])\n",
    "  labels = list(np.array(labels)[idxs])\n",
    "  return handles, labels"
   ],
   "outputs": [],
   "metadata": {}
  },
  {
   "cell_type": "code",
   "execution_count": 28,
   "source": [
    "SHOW_EBARS = True\n",
    "LINEWIDTH = 3\n",
    "AXIS_LBL_FONTSIZE = 16\n",
    "LEGEND_FONTSIZE = 16\n",
    "TICK_FONTSIZE = 14\n",
    "fig = plt.figure(figsize=(8,6))\n",
    "\n",
    "# Compute best lambdas\n",
    "best_lambdas = compute_best_lambdas(stats_df)\n",
    "\n",
    "y_dfs = []\n",
    "for model_key, model_df in q_stat_df.groupby('model'):\n",
    "  best_lambda = best_lambdas[model_key]\n",
    "  model_df = model_df[model_df.td_lambda==best_lambda]\n",
    "  y_dfs.append(model_df)\n",
    "q_stat_df_fixed = pd.concat(y_dfs)\n",
    "\n",
    "max_flop = np.max(q_stat_df_fixed.timestep_mean)\n",
    "\n",
    "for i, (model_key, model_df) in enumerate(q_stat_df_fixed.groupby('model')):\n",
    "  linestyle = '--' if 'multiple_fcs' in model_key else '-'\n",
    "  if 'cascaded_seq' in model_key:\n",
    "    linestyle = 'dotted'\n",
    "  try:\n",
    "    color_i = model_colors[model_key]\n",
    "  except:\n",
    "    color_i = model_colors[\"cascaded__parallel__multiple_fcs\"]\n",
    "  \n",
    "  timestep_vals = np.array(list(model_df.timestep_mean))\n",
    "  \n",
    "  sorted_idxs = np.argsort(timestep_vals)\n",
    "  timestep_vals = timestep_vals[sorted_idxs]\n",
    "  acc_vals = np.array(list(model_df.acc_mean))[sorted_idxs]\n",
    "  sem_error = np.array(list(model_df.acc_sem))[sorted_idxs]\n",
    "    \n",
    "  td_lambda_lbl = model_df.iloc[0].td_lambda.replace('td(', 'TD(')\n",
    "  try:\n",
    "    label = MODEL_LBL_LOOKUP[model_key]\n",
    "  except:\n",
    "    label = \"cascaded__scheme_1__multiple_fcs\"\n",
    "  plt.plot(timestep_vals, acc_vals, label=label, \n",
    "           linewidth=LINEWIDTH, c=color_i, linestyle=linestyle)\n",
    "  \n",
    "  if SHOW_EBARS:\n",
    "    lower_b = np.array(acc_vals) - np.array(sem_error)\n",
    "    upper_b = np.array(acc_vals) + np.array(sem_error)\n",
    "    plt.fill_between(timestep_vals, lower_b, upper_b, alpha=0.075, color=color_i)\n",
    "  \n",
    "plt.xlabel('Timesteps', fontsize=AXIS_LBL_FONTSIZE)\n",
    "plt.ylabel('Accuracy (%)', fontsize=AXIS_LBL_FONTSIZE)\n",
    "\n",
    "ax = plt.gca()\n",
    "ax.tick_params(axis='both', which='major', labelsize=TICK_FONTSIZE)\n",
    "handles, labels = ax.get_legend_handles_labels()\n",
    "handles, labels = fix_legend_order(handles, labels)\n",
    "ax.legend(handles=handles, labels=labels)\n",
    "                   \n",
    "final_fig_path = fig_path\n",
    "if 'metacog_df' in globals() and _SHOW_METACOG:\n",
    "  final_fig_path = final_fig_path.replace('.pdf', '_with_metacog.pdf')\n",
    "  metacog_df = metacog_df.sort_values('mean_time')\n",
    "  metacog_time = metacog_df.mean_time\n",
    "  metacog_acc = metacog_df.mean_correct * 100\n",
    "  metacog_color = np.array((255, 148, 77)) / 255.\n",
    "  metacog_ls = (0, (3, 1, 1, 1))\n",
    "  plt.plot(metacog_time, metacog_acc, \n",
    "           linewidth=LINEWIDTH, color=metacog_color, linestyle=metacog_ls)\n",
    "  metacog_patch = Line2D([0], [0], color=metacog_color, lw=LINEWIDTH, \n",
    "                         linestyle=metacog_ls, label='MetaCog GRU-RNN')\n",
    "\n",
    "  handles += [metacog_patch]\n",
    "\n",
    "legend = ax.legend(handles=handles, frameon=False, loc='center left', \n",
    "                   bbox_to_anchor=(1., 0.5), prop={'size': LEGEND_FONTSIZE})\n",
    "fig.subplots_adjust(right=0.9)\n",
    "  \n",
    "plt.savefig(final_fig_path, dpi=300, bbox_inches='tight')\n",
    "plt.savefig(final_fig_path.replace('pdf', 'png'), dpi=300, bbox_inches='tight')"
   ],
   "outputs": [
    {
     "output_type": "display_data",
     "data": {
      "image/png": "[encoded data removed]",
      "text/plain": [
       "<Figure size 576x432 with 1 Axes>"
      ]
     },
     "metadata": {
      "needs_background": "light"
     }
    }
   ],
   "metadata": {}
  },
  {
   "cell_type": "markdown",
   "source": [
    "### Print Stats"
   ],
   "metadata": {}
  },
  {
   "cell_type": "code",
   "execution_count": null,
   "source": [
    "for i, (model_key, model_df) in enumerate(q_stat_df_fixed.groupby('model')):\n",
    "  label = MODEL_LBL_LOOKUP[model_key]\n",
    "  final_df = model_df[model_df.timestep_mean==model_df.timestep_mean.max()].iloc[0]\n",
    "  acc = final_df.acc_mean\n",
    "  sem = final_df.acc_sem\n",
    "  print(f\"{label}: {acc:0.2f}% +/- {sem:0.2f} (n={final_df.n})\")\n",
    "  \n",
    "  xp = list(model_df.acc_mean)\n",
    "  fp = list(model_df.timestep_mean)\n",
    "  t_for_50_perc = np.interp(50, xp, fp)\n",
    "  print(f\"{label}: 50% accuracy @ timestep {t_for_50_perc:0.2f}\")\n",
    "  print(\"\\n\")"
   ],
   "outputs": [],
   "metadata": {}
  }
 ],
 "metadata": {
  "kernelspec": {
   "name": "python3",
   "display_name": "Python 3.9.5 64-bit ('base': conda)"
  },
  "language_info": {
   "codemirror_mode": {
    "name": "ipython",
    "version": 3
   },
   "file_extension": ".py",
   "mimetype": "text/x-python",
   "name": "python",
   "nbconvert_exporter": "python",
   "pygments_lexer": "ipython3",
   "version": "3.9.5"
  },
  "interpreter": {
   "hash": "20abc45e9a27c61e967a3195e9210359fc44b22848567dbc668d39778659fe0e"
  }
 },
 "nbformat": 4,
 "nbformat_minor": 5
}